{
 "cells": [
  {
   "cell_type": "code",
   "execution_count": 1,
   "metadata": {
    "_cell_guid": "b1076dfc-b9ad-4769-8c92-a6c4dae69d19",
    "_uuid": "8f2839f25d086af736a60e9eeb907d3b93b6e0e5",
    "execution": {
     "iopub.execute_input": "2022-01-25T19:28:55.173164Z",
     "iopub.status.busy": "2022-01-25T19:28:55.172304Z",
     "iopub.status.idle": "2022-01-25T19:28:55.190862Z",
     "shell.execute_reply": "2022-01-25T19:28:55.189982Z",
     "shell.execute_reply.started": "2022-01-25T19:27:47.622222Z"
    },
    "papermill": {
     "duration": 0.048348,
     "end_time": "2022-01-25T19:28:55.191119",
     "exception": false,
     "start_time": "2022-01-25T19:28:55.142771",
     "status": "completed"
    },
    "tags": []
   },
   "outputs": [
    {
     "name": "stdout",
     "output_type": "stream",
     "text": [
      "/kaggle/input/champions-league-era-stats/PlayerAppearDetails.csv\n",
      "/kaggle/input/champions-league-era-stats/AllTimeRankingByClub.csv\n",
      "/kaggle/input/champions-league-era-stats/TopGoalScorer.csv\n",
      "/kaggle/input/champions-league-era-stats/PlayerGoalTotals.csv\n",
      "/kaggle/input/champions-league-era-stats/PlayerGoalDetails.csv\n",
      "/kaggle/input/champions-league-era-stats/CoachesAppearTotals.csv\n",
      "/kaggle/input/champions-league-era-stats/CoachesAppearDetails.csv\n",
      "/kaggle/input/champions-league-era-stats/GoalStatsPerGroupRound.csv\n",
      "/kaggle/input/champions-league-era-stats/AllTimeRankingByCountry.csv\n",
      "/kaggle/input/champions-league-era-stats/PlayerAppearTotals.csv\n"
     ]
    }
   ],
   "source": [
    "# This Python 3 environment comes with many helpful analytics libraries installed\n",
    "# It is defined by the kaggle/python Docker image: https://github.com/kaggle/docker-python\n",
    "# For example, here's several helpful packages to load\n",
    "\n",
    "import numpy as np # linear algebra\n",
    "import pandas as pd # data processing, CSV file I/O (e.g. pd.read_csv)\n",
    "import matplotlib.pyplot as plt\n",
    "\n",
    "# Input data files are available in the read-only \"../input/\" directory\n",
    "# For example, running this (by clicking run or pressing Shift+Enter) will list all files under the input directory\n",
    "\n",
    "import os\n",
    "for dirname, _, filenames in os.walk('/kaggle/input'):\n",
    "    for filename in filenames:\n",
    "        print(os.path.join(dirname, filename))\n",
    "\n",
    "# You can write up to 20GB to the current directory (/kaggle/working/) that gets preserved as output when you create a version using \"Save & Run All\" \n",
    "# You can also write temporary files to /kaggle/temp/, but they won't be saved outside of the current session"
   ]
  },
  {
   "cell_type": "code",
   "execution_count": 2,
   "metadata": {
    "execution": {
     "iopub.execute_input": "2022-01-25T19:28:55.249616Z",
     "iopub.status.busy": "2022-01-25T19:28:55.248853Z",
     "iopub.status.idle": "2022-01-25T19:28:55.252532Z",
     "shell.execute_reply": "2022-01-25T19:28:55.251922Z",
     "shell.execute_reply.started": "2022-01-25T19:27:47.645422Z"
    },
    "papermill": {
     "duration": 0.035093,
     "end_time": "2022-01-25T19:28:55.252692",
     "exception": false,
     "start_time": "2022-01-25T19:28:55.217599",
     "status": "completed"
    },
    "tags": []
   },
   "outputs": [],
   "source": [
    "PATH = \"/kaggle/input/champions-league-era-stats\""
   ]
  },
  {
   "cell_type": "markdown",
   "metadata": {
    "papermill": {
     "duration": 0.024975,
     "end_time": "2022-01-25T19:28:55.303469",
     "exception": false,
     "start_time": "2022-01-25T19:28:55.278494",
     "status": "completed"
    },
    "tags": []
   },
   "source": [
    "# The country with the most clubs to participate in the Champions League\n",
    "Lets analyze the AllTimeRankingByClub which is the more detailed file.  The All Time RankingByCountry is the summary file which removes the club names and just adds up  the numbers per country.\n",
    "\n",
    "You can use this dictionary if you'd like to convert between the country code and country name:"
   ]
  },
  {
   "cell_type": "code",
   "execution_count": 3,
   "metadata": {
    "execution": {
     "iopub.execute_input": "2022-01-25T19:28:55.358505Z",
     "iopub.status.busy": "2022-01-25T19:28:55.357732Z",
     "iopub.status.idle": "2022-01-25T19:28:55.365604Z",
     "shell.execute_reply": "2022-01-25T19:28:55.366274Z",
     "shell.execute_reply.started": "2022-01-25T19:27:47.651370Z"
    },
    "papermill": {
     "duration": 0.037275,
     "end_time": "2022-01-25T19:28:55.366526",
     "exception": false,
     "start_time": "2022-01-25T19:28:55.329251",
     "status": "completed"
    },
    "tags": []
   },
   "outputs": [],
   "source": [
    "country_dict = { \"ESP\": \"Spain\", \"ENG\": \"England\", \"ITA\" :\"Italy\", \"GER\":\"Germany\", \"POR\": \"Portugal\",\n",
    "               \"FRA\":\"France\", \"NED\":\"Netherlands\", \"POL\":\"Poland\", \"ROU\":\"Romania\", \"RUS\":\"Russia\", \n",
    "               \"AUT\":\"Austria\", \"SCO\":\"Scotland\", \"SRB\":\"Serbia\", \"SUI\":\"Switzerland\", \"SVK\":\"Slovakia\",\n",
    "               \"SVN\":\"SLovenia\", \"TUR\":\"Turkey\", \"NOR\":\"Norway\", \"ISR\":\"Israel\", \"KAZ\":\"Kazakhstan\", \n",
    "               \"AZE\":\"Azerbaijan\", \"HUN\":\"Hungary\", \"GRE\":\"Greece\", \"FIN\":\"Finland\", \"DEN\":\"Denmark\", \n",
    "                \"SWE\": \"Swedend\", \"CZE\":\"Czech Republic\", \"CYP\":\"Cyprus\", \"CRO\": \"Croatia\", \"BUL\":\"Bulgaria\", \n",
    "                \"BLR\":\"Belarus\", \"BEL\":\"Belguim\", \"UKR\":\"Ukraine\", \"MDV\":\"Moldova\"}"
   ]
  },
  {
   "cell_type": "code",
   "execution_count": 4,
   "metadata": {
    "execution": {
     "iopub.execute_input": "2022-01-25T19:28:55.425907Z",
     "iopub.status.busy": "2022-01-25T19:28:55.425122Z",
     "iopub.status.idle": "2022-01-25T19:28:55.444184Z",
     "shell.execute_reply": "2022-01-25T19:28:55.444863Z",
     "shell.execute_reply.started": "2022-01-25T19:27:47.664561Z"
    },
    "papermill": {
     "duration": 0.052542,
     "end_time": "2022-01-25T19:28:55.445062",
     "exception": false,
     "start_time": "2022-01-25T19:28:55.392520",
     "status": "completed"
    },
    "tags": []
   },
   "outputs": [
    {
     "data": {
      "text/plain": [
       "Index(['Position', 'Club', 'Country', 'Participated', 'Titles', 'Played',\n",
       "       'Win', 'Draw', 'Loss', 'Goals For', 'Goals Against', 'Pts',\n",
       "       'Goal Diff'],\n",
       "      dtype='object')"
      ]
     },
     "execution_count": 4,
     "metadata": {},
     "output_type": "execute_result"
    }
   ],
   "source": [
    "AllTimeClub = pd.read_csv(os.path.join(PATH, \"AllTimeRankingByClub.csv\"), encoding='utf-16')\n",
    "AllTimeClub.columns"
   ]
  },
  {
   "cell_type": "code",
   "execution_count": 5,
   "metadata": {
    "execution": {
     "iopub.execute_input": "2022-01-25T19:28:55.501121Z",
     "iopub.status.busy": "2022-01-25T19:28:55.500434Z",
     "iopub.status.idle": "2022-01-25T19:28:55.785701Z",
     "shell.execute_reply": "2022-01-25T19:28:55.784843Z",
     "shell.execute_reply.started": "2022-01-25T19:27:47.697891Z"
    },
    "papermill": {
     "duration": 0.314445,
     "end_time": "2022-01-25T19:28:55.785892",
     "exception": false,
     "start_time": "2022-01-25T19:28:55.471447",
     "status": "completed"
    },
    "tags": []
   },
   "outputs": [
    {
     "data": {
      "image/png": "[encoded data removed]",
      "text/plain": [
       "<Figure size 1152x576 with 1 Axes>"
      ]
     },
     "metadata": {
      "needs_background": "light"
     },
     "output_type": "display_data"
    }
   ],
   "source": [
    "df = AllTimeClub.copy(deep=True)\n",
    "plt.figure(figsize=(16,8))\n",
    "plt.title(\"Top Countries with different clubs participating in competition\")\n",
    "df = df.groupby(\"Country\")[\"Club\"].count().sort_values(ascending=False)[:20].plot(kind='barh')"
   ]
  },
  {
   "cell_type": "markdown",
   "metadata": {
    "papermill": {
     "duration": 0.026967,
     "end_time": "2022-01-25T19:28:55.840222",
     "exception": false,
     "start_time": "2022-01-25T19:28:55.813255",
     "status": "completed"
    },
    "tags": []
   },
   "source": [
    "With the domination of the spanish clubs in the last decade I expected them to be in the top but the German clubs are a surprise for me. Even though both leagues have been dominated by a few clubs (2 in Spain and mostly 1 in Germany) it looks like overall the competition produces more balanced results for their clubs compared  other leagues by sending different clubs to Europe's top club competition"
   ]
  },
  {
   "cell_type": "markdown",
   "metadata": {
    "papermill": {
     "duration": 0.026748,
     "end_time": "2022-01-25T19:28:55.894175",
     "exception": false,
     "start_time": "2022-01-25T19:28:55.867427",
     "status": "completed"
    },
    "tags": []
   },
   "source": [
    "# Top scoring clubs per game in the competition"
   ]
  },
  {
   "cell_type": "code",
   "execution_count": 6,
   "metadata": {
    "execution": {
     "iopub.execute_input": "2022-01-25T19:28:55.955749Z",
     "iopub.status.busy": "2022-01-25T19:28:55.954831Z",
     "iopub.status.idle": "2022-01-25T19:28:56.238970Z",
     "shell.execute_reply": "2022-01-25T19:28:56.238281Z",
     "shell.execute_reply.started": "2022-01-25T19:27:48.047836Z"
    },
    "papermill": {
     "duration": 0.317791,
     "end_time": "2022-01-25T19:28:56.239103",
     "exception": false,
     "start_time": "2022-01-25T19:28:55.921312",
     "status": "completed"
    },
    "tags": []
   },
   "outputs": [
    {
     "data": {
      "image/png": "[encoded data removed]",
      "text/plain": [
       "<Figure size 1152x576 with 1 Axes>"
      ]
     },
     "metadata": {
      "needs_background": "light"
     },
     "output_type": "display_data"
    }
   ],
   "source": [
    "df = AllTimeClub.copy(deep=True)\n",
    "df[\"GPG\"] = df[\"Goals For\"] / df[\"Played\"]\n",
    "plt.figure(figsize=(16,8))\n",
    "plt.title(\"Clubs with highest Goals Per Game average in the competition\")\n",
    "df = df.groupby([\"Club\", \"Country\"])[\"GPG\"].max().sort_values(ascending=False)[:20].plot(kind='barh')"
   ]
  },
  {
   "cell_type": "markdown",
   "metadata": {
    "papermill": {
     "duration": 0.018366,
     "end_time": "2022-01-25T19:28:56.276154",
     "exception": false,
     "start_time": "2022-01-25T19:28:56.257788",
     "status": "completed"
    },
    "tags": []
   },
   "source": [
    "This list has more surprising results than the country list.  PSG, Manchester City, Hoffenheim & Tottenham were not teams I was expecting to see so high in the list. Obviously the less games you participate in, while scoring many goals in those few games skews the results.  Lets confirm"
   ]
  },
  {
   "cell_type": "markdown",
   "metadata": {
    "papermill": {
     "duration": 0.018503,
     "end_time": "2022-01-25T19:28:56.313176",
     "exception": false,
     "start_time": "2022-01-25T19:28:56.294673",
     "status": "completed"
    },
    "tags": []
   },
   "source": [
    "So lets look at those clubs and how many games have they played or have participated in the competition."
   ]
  },
  {
   "cell_type": "code",
   "execution_count": 7,
   "metadata": {
    "execution": {
     "iopub.execute_input": "2022-01-25T19:28:56.353584Z",
     "iopub.status.busy": "2022-01-25T19:28:56.353045Z",
     "iopub.status.idle": "2022-01-25T19:28:56.383070Z",
     "shell.execute_reply": "2022-01-25T19:28:56.383615Z",
     "shell.execute_reply.started": "2022-01-25T19:27:48.402032Z"
    },
    "papermill": {
     "duration": 0.051914,
     "end_time": "2022-01-25T19:28:56.383782",
     "exception": false,
     "start_time": "2022-01-25T19:28:56.331868",
     "status": "completed"
    },
    "tags": []
   },
   "outputs": [
    {
     "data": {
      "text/html": [
       "<div>\n",
       "<style scoped>\n",
       "    .dataframe tbody tr th:only-of-type {\n",
       "        vertical-align: middle;\n",
       "    }\n",
       "\n",
       "    .dataframe tbody tr th {\n",
       "        vertical-align: top;\n",
       "    }\n",
       "\n",
       "    .dataframe thead th {\n",
       "        text-align: right;\n",
       "    }\n",
       "</style>\n",
       "<table border=\"1\" class=\"dataframe\">\n",
       "  <thead>\n",
       "    <tr style=\"text-align: right;\">\n",
       "      <th></th>\n",
       "      <th>Position</th>\n",
       "      <th>Club</th>\n",
       "      <th>Country</th>\n",
       "      <th>Participated</th>\n",
       "      <th>Titles</th>\n",
       "      <th>Played</th>\n",
       "      <th>Win</th>\n",
       "      <th>Draw</th>\n",
       "      <th>Loss</th>\n",
       "      <th>Goals For</th>\n",
       "      <th>Goals Against</th>\n",
       "      <th>Pts</th>\n",
       "      <th>Goal Diff</th>\n",
       "    </tr>\n",
       "  </thead>\n",
       "  <tbody>\n",
       "    <tr>\n",
       "      <th>0</th>\n",
       "      <td>1</td>\n",
       "      <td>Real Madrid CF</td>\n",
       "      <td>ESP</td>\n",
       "      <td>26</td>\n",
       "      <td>7</td>\n",
       "      <td>285</td>\n",
       "      <td>170</td>\n",
       "      <td>54</td>\n",
       "      <td>61</td>\n",
       "      <td>600</td>\n",
       "      <td>310.0</td>\n",
       "      <td>394.0</td>\n",
       "      <td>290.0</td>\n",
       "    </tr>\n",
       "    <tr>\n",
       "      <th>1</th>\n",
       "      <td>2</td>\n",
       "      <td>FC Barcelona</td>\n",
       "      <td>ESP</td>\n",
       "      <td>26</td>\n",
       "      <td>4</td>\n",
       "      <td>271</td>\n",
       "      <td>158</td>\n",
       "      <td>64</td>\n",
       "      <td>49</td>\n",
       "      <td>537</td>\n",
       "      <td>274.0</td>\n",
       "      <td>380.0</td>\n",
       "      <td>263.0</td>\n",
       "    </tr>\n",
       "    <tr>\n",
       "      <th>2</th>\n",
       "      <td>3</td>\n",
       "      <td>FC Bayern München</td>\n",
       "      <td>GER</td>\n",
       "      <td>25</td>\n",
       "      <td>3</td>\n",
       "      <td>268</td>\n",
       "      <td>157</td>\n",
       "      <td>54</td>\n",
       "      <td>57</td>\n",
       "      <td>549</td>\n",
       "      <td>274.0</td>\n",
       "      <td>368.0</td>\n",
       "      <td>275.0</td>\n",
       "    </tr>\n",
       "    <tr>\n",
       "      <th>3</th>\n",
       "      <td>4</td>\n",
       "      <td>Manchester United</td>\n",
       "      <td>ENG</td>\n",
       "      <td>24</td>\n",
       "      <td>2</td>\n",
       "      <td>236</td>\n",
       "      <td>124</td>\n",
       "      <td>58</td>\n",
       "      <td>54</td>\n",
       "      <td>399</td>\n",
       "      <td>228.0</td>\n",
       "      <td>306.0</td>\n",
       "      <td>171.0</td>\n",
       "    </tr>\n",
       "    <tr>\n",
       "      <th>4</th>\n",
       "      <td>5</td>\n",
       "      <td>Juventus</td>\n",
       "      <td>ITA</td>\n",
       "      <td>22</td>\n",
       "      <td>1</td>\n",
       "      <td>212</td>\n",
       "      <td>109</td>\n",
       "      <td>52</td>\n",
       "      <td>51</td>\n",
       "      <td>334</td>\n",
       "      <td>209.0</td>\n",
       "      <td>270.0</td>\n",
       "      <td>125.0</td>\n",
       "    </tr>\n",
       "    <tr>\n",
       "      <th>5</th>\n",
       "      <td>6</td>\n",
       "      <td>Chelsea FC</td>\n",
       "      <td>ENG</td>\n",
       "      <td>18</td>\n",
       "      <td>2</td>\n",
       "      <td>183</td>\n",
       "      <td>93</td>\n",
       "      <td>51</td>\n",
       "      <td>39</td>\n",
       "      <td>314</td>\n",
       "      <td>166.0</td>\n",
       "      <td>237.0</td>\n",
       "      <td>148.0</td>\n",
       "    </tr>\n",
       "    <tr>\n",
       "      <th>7</th>\n",
       "      <td>8</td>\n",
       "      <td>Arsenal FC</td>\n",
       "      <td>ENG</td>\n",
       "      <td>19</td>\n",
       "      <td>0</td>\n",
       "      <td>177</td>\n",
       "      <td>83</td>\n",
       "      <td>41</td>\n",
       "      <td>53</td>\n",
       "      <td>281</td>\n",
       "      <td>205.0</td>\n",
       "      <td>207.0</td>\n",
       "      <td>76.0</td>\n",
       "    </tr>\n",
       "    <tr>\n",
       "      <th>9</th>\n",
       "      <td>10</td>\n",
       "      <td>Liverpool FC</td>\n",
       "      <td>ENG</td>\n",
       "      <td>14</td>\n",
       "      <td>2</td>\n",
       "      <td>138</td>\n",
       "      <td>71</td>\n",
       "      <td>34</td>\n",
       "      <td>33</td>\n",
       "      <td>241</td>\n",
       "      <td>134.0</td>\n",
       "      <td>176.0</td>\n",
       "      <td>107.0</td>\n",
       "    </tr>\n",
       "    <tr>\n",
       "      <th>10</th>\n",
       "      <td>11</td>\n",
       "      <td>Paris Saint-Germain</td>\n",
       "      <td>FRA</td>\n",
       "      <td>14</td>\n",
       "      <td>0</td>\n",
       "      <td>127</td>\n",
       "      <td>69</td>\n",
       "      <td>24</td>\n",
       "      <td>34</td>\n",
       "      <td>253</td>\n",
       "      <td>146.0</td>\n",
       "      <td>162.0</td>\n",
       "      <td>107.0</td>\n",
       "    </tr>\n",
       "    <tr>\n",
       "      <th>11</th>\n",
       "      <td>12</td>\n",
       "      <td>Borussia Dortmund</td>\n",
       "      <td>GER</td>\n",
       "      <td>16</td>\n",
       "      <td>1</td>\n",
       "      <td>138</td>\n",
       "      <td>65</td>\n",
       "      <td>27</td>\n",
       "      <td>46</td>\n",
       "      <td>222</td>\n",
       "      <td>172.0</td>\n",
       "      <td>157.0</td>\n",
       "      <td>50.0</td>\n",
       "    </tr>\n",
       "    <tr>\n",
       "      <th>12</th>\n",
       "      <td>13</td>\n",
       "      <td>Olympique Lyonnais</td>\n",
       "      <td>FRA</td>\n",
       "      <td>16</td>\n",
       "      <td>0</td>\n",
       "      <td>136</td>\n",
       "      <td>58</td>\n",
       "      <td>36</td>\n",
       "      <td>42</td>\n",
       "      <td>214</td>\n",
       "      <td>165.0</td>\n",
       "      <td>152.0</td>\n",
       "      <td>49.0</td>\n",
       "    </tr>\n",
       "    <tr>\n",
       "      <th>17</th>\n",
       "      <td>18</td>\n",
       "      <td>Manchester City FC</td>\n",
       "      <td>ENG</td>\n",
       "      <td>11</td>\n",
       "      <td>0</td>\n",
       "      <td>96</td>\n",
       "      <td>53</td>\n",
       "      <td>16</td>\n",
       "      <td>27</td>\n",
       "      <td>195</td>\n",
       "      <td>118.0</td>\n",
       "      <td>122.0</td>\n",
       "      <td>77.0</td>\n",
       "    </tr>\n",
       "    <tr>\n",
       "      <th>38</th>\n",
       "      <td>39</td>\n",
       "      <td>Tottenham Hotspur</td>\n",
       "      <td>ENG</td>\n",
       "      <td>5</td>\n",
       "      <td>0</td>\n",
       "      <td>45</td>\n",
       "      <td>20</td>\n",
       "      <td>9</td>\n",
       "      <td>16</td>\n",
       "      <td>81</td>\n",
       "      <td>67.0</td>\n",
       "      <td>49.0</td>\n",
       "      <td>14.0</td>\n",
       "    </tr>\n",
       "    <tr>\n",
       "      <th>39</th>\n",
       "      <td>40</td>\n",
       "      <td>SSC Napoli</td>\n",
       "      <td>ITA</td>\n",
       "      <td>6</td>\n",
       "      <td>0</td>\n",
       "      <td>42</td>\n",
       "      <td>18</td>\n",
       "      <td>11</td>\n",
       "      <td>13</td>\n",
       "      <td>68</td>\n",
       "      <td>58.0</td>\n",
       "      <td>47.0</td>\n",
       "      <td>10.0</td>\n",
       "    </tr>\n",
       "    <tr>\n",
       "      <th>50</th>\n",
       "      <td>51</td>\n",
       "      <td>RB Leipzig</td>\n",
       "      <td>GER</td>\n",
       "      <td>4</td>\n",
       "      <td>0</td>\n",
       "      <td>30</td>\n",
       "      <td>14</td>\n",
       "      <td>4</td>\n",
       "      <td>12</td>\n",
       "      <td>52</td>\n",
       "      <td>53.0</td>\n",
       "      <td>32.0</td>\n",
       "      <td>-1.0</td>\n",
       "    </tr>\n",
       "    <tr>\n",
       "      <th>60</th>\n",
       "      <td>61</td>\n",
       "      <td>Atalanta BC</td>\n",
       "      <td>ITA</td>\n",
       "      <td>3</td>\n",
       "      <td>0</td>\n",
       "      <td>23</td>\n",
       "      <td>8</td>\n",
       "      <td>6</td>\n",
       "      <td>9</td>\n",
       "      <td>40</td>\n",
       "      <td>43.0</td>\n",
       "      <td>22.0</td>\n",
       "      <td>-3.0</td>\n",
       "    </tr>\n",
       "    <tr>\n",
       "      <th>62</th>\n",
       "      <td>63</td>\n",
       "      <td>FC Salzburg</td>\n",
       "      <td>AUT</td>\n",
       "      <td>4</td>\n",
       "      <td>0</td>\n",
       "      <td>24</td>\n",
       "      <td>7</td>\n",
       "      <td>6</td>\n",
       "      <td>11</td>\n",
       "      <td>38</td>\n",
       "      <td>42.0</td>\n",
       "      <td>20.0</td>\n",
       "      <td>-4.0</td>\n",
       "    </tr>\n",
       "    <tr>\n",
       "      <th>75</th>\n",
       "      <td>76</td>\n",
       "      <td>Málaga CF</td>\n",
       "      <td>ESP</td>\n",
       "      <td>1</td>\n",
       "      <td>0</td>\n",
       "      <td>10</td>\n",
       "      <td>4</td>\n",
       "      <td>4</td>\n",
       "      <td>2</td>\n",
       "      <td>16</td>\n",
       "      <td>9.0</td>\n",
       "      <td>12.0</td>\n",
       "      <td>7.0</td>\n",
       "    </tr>\n",
       "    <tr>\n",
       "      <th>102</th>\n",
       "      <td>103</td>\n",
       "      <td>Udinese Calcio</td>\n",
       "      <td>ITA</td>\n",
       "      <td>1</td>\n",
       "      <td>0</td>\n",
       "      <td>6</td>\n",
       "      <td>2</td>\n",
       "      <td>1</td>\n",
       "      <td>3</td>\n",
       "      <td>10</td>\n",
       "      <td>12.0</td>\n",
       "      <td>5.0</td>\n",
       "      <td>-2.0</td>\n",
       "    </tr>\n",
       "    <tr>\n",
       "      <th>120</th>\n",
       "      <td>121</td>\n",
       "      <td>TSG 1899 Hoffenheim</td>\n",
       "      <td>GER</td>\n",
       "      <td>1</td>\n",
       "      <td>0</td>\n",
       "      <td>6</td>\n",
       "      <td>0</td>\n",
       "      <td>3</td>\n",
       "      <td>3</td>\n",
       "      <td>11</td>\n",
       "      <td>14.0</td>\n",
       "      <td>3.0</td>\n",
       "      <td>-3.0</td>\n",
       "    </tr>\n",
       "  </tbody>\n",
       "</table>\n",
       "</div>"
      ],
      "text/plain": [
       "     Position                 Club Country  Participated  Titles  Played  Win  \\\n",
       "0           1       Real Madrid CF     ESP            26       7     285  170   \n",
       "1           2         FC Barcelona     ESP            26       4     271  158   \n",
       "2           3    FC Bayern München     GER            25       3     268  157   \n",
       "3           4    Manchester United     ENG            24       2     236  124   \n",
       "4           5             Juventus     ITA            22       1     212  109   \n",
       "5           6           Chelsea FC     ENG            18       2     183   93   \n",
       "7           8           Arsenal FC     ENG            19       0     177   83   \n",
       "9          10         Liverpool FC     ENG            14       2     138   71   \n",
       "10         11  Paris Saint-Germain     FRA            14       0     127   69   \n",
       "11         12    Borussia Dortmund     GER            16       1     138   65   \n",
       "12         13   Olympique Lyonnais     FRA            16       0     136   58   \n",
       "17         18   Manchester City FC     ENG            11       0      96   53   \n",
       "38         39    Tottenham Hotspur     ENG             5       0      45   20   \n",
       "39         40           SSC Napoli     ITA             6       0      42   18   \n",
       "50         51           RB Leipzig     GER             4       0      30   14   \n",
       "60         61          Atalanta BC     ITA             3       0      23    8   \n",
       "62         63          FC Salzburg     AUT             4       0      24    7   \n",
       "75         76            Málaga CF     ESP             1       0      10    4   \n",
       "102       103       Udinese Calcio     ITA             1       0       6    2   \n",
       "120       121  TSG 1899 Hoffenheim     GER             1       0       6    0   \n",
       "\n",
       "     Draw  Loss  Goals For  Goals Against    Pts  Goal Diff  \n",
       "0      54    61        600          310.0  394.0      290.0  \n",
       "1      64    49        537          274.0  380.0      263.0  \n",
       "2      54    57        549          274.0  368.0      275.0  \n",
       "3      58    54        399          228.0  306.0      171.0  \n",
       "4      52    51        334          209.0  270.0      125.0  \n",
       "5      51    39        314          166.0  237.0      148.0  \n",
       "7      41    53        281          205.0  207.0       76.0  \n",
       "9      34    33        241          134.0  176.0      107.0  \n",
       "10     24    34        253          146.0  162.0      107.0  \n",
       "11     27    46        222          172.0  157.0       50.0  \n",
       "12     36    42        214          165.0  152.0       49.0  \n",
       "17     16    27        195          118.0  122.0       77.0  \n",
       "38      9    16         81           67.0   49.0       14.0  \n",
       "39     11    13         68           58.0   47.0       10.0  \n",
       "50      4    12         52           53.0   32.0       -1.0  \n",
       "60      6     9         40           43.0   22.0       -3.0  \n",
       "62      6    11         38           42.0   20.0       -4.0  \n",
       "75      4     2         16            9.0   12.0        7.0  \n",
       "102     1     3         10           12.0    5.0       -2.0  \n",
       "120     3     3         11           14.0    3.0       -3.0  "
      ]
     },
     "execution_count": 7,
     "metadata": {},
     "output_type": "execute_result"
    }
   ],
   "source": [
    "df = AllTimeClub.copy(deep=True)\n",
    "df[\"GPG\"] = df[\"Goals For\"] / df[\"Played\"]\n",
    "df = df.groupby(\"Club\")[\"GPG\"].max().sort_values(ascending=False)[:20]\n",
    "AllTimeClub.loc[AllTimeClub[\"Club\"].isin(df.index.tolist())]"
   ]
  },
  {
   "cell_type": "markdown",
   "metadata": {
    "papermill": {
     "duration": 0.018421,
     "end_time": "2022-01-25T19:28:56.421875",
     "exception": false,
     "start_time": "2022-01-25T19:28:56.403454",
     "status": "completed"
    },
    "tags": []
   },
   "source": [
    "We can see that at least 3 teams have only played once in the competition, while 3 others have participated 5 times or less.  There are many ways to slice and dice this dataset so please enjoy and share some of the interesting findings that you come up with."
   ]
  },
  {
   "cell_type": "code",
   "execution_count": 8,
   "metadata": {
    "execution": {
     "iopub.execute_input": "2022-01-25T19:28:56.463246Z",
     "iopub.status.busy": "2022-01-25T19:28:56.462634Z",
     "iopub.status.idle": "2022-01-25T19:28:56.466940Z",
     "shell.execute_reply": "2022-01-25T19:28:56.466458Z",
     "shell.execute_reply.started": "2022-01-25T19:27:48.443555Z"
    },
    "papermill": {
     "duration": 0.026118,
     "end_time": "2022-01-25T19:28:56.467076",
     "exception": false,
     "start_time": "2022-01-25T19:28:56.440958",
     "status": "completed"
    },
    "tags": []
   },
   "outputs": [],
   "source": [
    "del df"
   ]
  },
  {
   "cell_type": "markdown",
   "metadata": {
    "papermill": {
     "duration": 0.01895,
     "end_time": "2022-01-25T19:28:56.505485",
     "exception": false,
     "start_time": "2022-01-25T19:28:56.486535",
     "status": "completed"
    },
    "tags": []
   },
   "source": [
    "# Coach with the most appearances for a single club\n",
    "We will analyze the CoachesAppearDetails file which has the details broken down by each club that the coach represented.  The CoachsAppearTotals is just the sum of this data without the club represented"
   ]
  },
  {
   "cell_type": "code",
   "execution_count": 9,
   "metadata": {
    "execution": {
     "iopub.execute_input": "2022-01-25T19:28:56.547780Z",
     "iopub.status.busy": "2022-01-25T19:28:56.547129Z",
     "iopub.status.idle": "2022-01-25T19:28:56.564516Z",
     "shell.execute_reply": "2022-01-25T19:28:56.563980Z",
     "shell.execute_reply.started": "2022-01-25T19:27:48.449884Z"
    },
    "papermill": {
     "duration": 0.039857,
     "end_time": "2022-01-25T19:28:56.564658",
     "exception": false,
     "start_time": "2022-01-25T19:28:56.524801",
     "status": "completed"
    },
    "tags": []
   },
   "outputs": [
    {
     "data": {
      "text/html": [
       "<div>\n",
       "<style scoped>\n",
       "    .dataframe tbody tr th:only-of-type {\n",
       "        vertical-align: middle;\n",
       "    }\n",
       "\n",
       "    .dataframe tbody tr th {\n",
       "        vertical-align: top;\n",
       "    }\n",
       "\n",
       "    .dataframe thead th {\n",
       "        text-align: right;\n",
       "    }\n",
       "</style>\n",
       "<table border=\"1\" class=\"dataframe\">\n",
       "  <thead>\n",
       "    <tr style=\"text-align: right;\">\n",
       "      <th></th>\n",
       "      <th>Coach</th>\n",
       "      <th>Club</th>\n",
       "      <th>Appearance</th>\n",
       "    </tr>\n",
       "  </thead>\n",
       "  <tbody>\n",
       "    <tr>\n",
       "      <th>0</th>\n",
       "      <td>Sir Alex Ferguson</td>\n",
       "      <td>Manchester United FC</td>\n",
       "      <td>190</td>\n",
       "    </tr>\n",
       "    <tr>\n",
       "      <th>1</th>\n",
       "      <td>Arsène Wenger</td>\n",
       "      <td>Arsenal FC</td>\n",
       "      <td>171</td>\n",
       "    </tr>\n",
       "    <tr>\n",
       "      <th>2</th>\n",
       "      <td>Arsène Wenger</td>\n",
       "      <td>AS Monaco FC</td>\n",
       "      <td>7</td>\n",
       "    </tr>\n",
       "    <tr>\n",
       "      <th>3</th>\n",
       "      <td>Carlo Ancelotti</td>\n",
       "      <td>FC Bayern München</td>\n",
       "      <td>12</td>\n",
       "    </tr>\n",
       "    <tr>\n",
       "      <th>4</th>\n",
       "      <td>Carlo Ancelotti</td>\n",
       "      <td>Juventus</td>\n",
       "      <td>10</td>\n",
       "    </tr>\n",
       "    <tr>\n",
       "      <th>...</th>\n",
       "      <td>...</td>\n",
       "      <td>...</td>\n",
       "      <td>...</td>\n",
       "    </tr>\n",
       "    <tr>\n",
       "      <th>107</th>\n",
       "      <td>Ernesto Valverde</td>\n",
       "      <td>FC Barcelona</td>\n",
       "      <td>28</td>\n",
       "    </tr>\n",
       "    <tr>\n",
       "      <th>108</th>\n",
       "      <td>Felix Magath</td>\n",
       "      <td>VfB Stuttgart</td>\n",
       "      <td>8</td>\n",
       "    </tr>\n",
       "    <tr>\n",
       "      <th>109</th>\n",
       "      <td>Felix Magath</td>\n",
       "      <td>FC Schalke 04</td>\n",
       "      <td>8</td>\n",
       "    </tr>\n",
       "    <tr>\n",
       "      <th>110</th>\n",
       "      <td>Felix Magath</td>\n",
       "      <td>FC Bayern München</td>\n",
       "      <td>24</td>\n",
       "    </tr>\n",
       "    <tr>\n",
       "      <th>111</th>\n",
       "      <td>Thomas Schaaf</td>\n",
       "      <td>SV Werder Bremen</td>\n",
       "      <td>40</td>\n",
       "    </tr>\n",
       "  </tbody>\n",
       "</table>\n",
       "<p>112 rows × 3 columns</p>\n",
       "</div>"
      ],
      "text/plain": [
       "                 Coach                  Club  Appearance\n",
       "0    Sir Alex Ferguson  Manchester United FC         190\n",
       "1        Arsène Wenger            Arsenal FC         171\n",
       "2        Arsène Wenger          AS Monaco FC           7\n",
       "3      Carlo Ancelotti     FC Bayern München          12\n",
       "4      Carlo Ancelotti              Juventus          10\n",
       "..                 ...                   ...         ...\n",
       "107   Ernesto Valverde          FC Barcelona          28\n",
       "108       Felix Magath         VfB Stuttgart           8\n",
       "109       Felix Magath         FC Schalke 04           8\n",
       "110       Felix Magath     FC Bayern München          24\n",
       "111      Thomas Schaaf      SV Werder Bremen          40\n",
       "\n",
       "[112 rows x 3 columns]"
      ]
     },
     "execution_count": 9,
     "metadata": {},
     "output_type": "execute_result"
    }
   ],
   "source": [
    "CoachAppear = pd.read_csv(os.path.join(PATH, \"CoachesAppearDetails.csv\"), index_col='Unnamed: 0')\n",
    "CoachAppear"
   ]
  },
  {
   "cell_type": "markdown",
   "metadata": {
    "papermill": {
     "duration": 0.019101,
     "end_time": "2022-01-25T19:28:56.604028",
     "exception": false,
     "start_time": "2022-01-25T19:28:56.584927",
     "status": "completed"
    },
    "tags": []
   },
   "source": [
    "Lets see who are the coaches with the most appearances with a single club and which club it was"
   ]
  },
  {
   "cell_type": "code",
   "execution_count": 10,
   "metadata": {
    "execution": {
     "iopub.execute_input": "2022-01-25T19:28:56.646218Z",
     "iopub.status.busy": "2022-01-25T19:28:56.645681Z",
     "iopub.status.idle": "2022-01-25T19:28:56.660261Z",
     "shell.execute_reply": "2022-01-25T19:28:56.659808Z",
     "shell.execute_reply.started": "2022-01-25T19:27:48.479720Z"
    },
    "papermill": {
     "duration": 0.03672,
     "end_time": "2022-01-25T19:28:56.660435",
     "exception": false,
     "start_time": "2022-01-25T19:28:56.623715",
     "status": "completed"
    },
    "tags": []
   },
   "outputs": [
    {
     "data": {
      "text/plain": [
       "Coach                 Club                   \n",
       "Sir Alex Ferguson     Manchester United FC       190\n",
       "Arsène Wenger         Arsenal FC                 171\n",
       "Diego Simeone         Club Atlético de Madrid     83\n",
       "Marcello Lippi        Juventus                    76\n",
       "Ottmar Hitzfeld       FC Bayern München           76\n",
       "Carlo Ancelotti       AC Milan                    73\n",
       "Mircea Lucescu        FC Shakhtar Donetsk         68\n",
       "Rafael Benítez        Liverpool FC                62\n",
       "Massimiliano Allegri  Juventus                    60\n",
       "Vicente del Bosque    Real Madrid CF              60\n",
       "Name: Appearance, dtype: int64"
      ]
     },
     "execution_count": 10,
     "metadata": {},
     "output_type": "execute_result"
    }
   ],
   "source": [
    "df = CoachAppear.copy(deep=True)\n",
    "df = df.groupby([\"Coach\", \"Club\"])[\"Appearance\"].max().sort_values(ascending=False)[:10]\n",
    "df"
   ]
  },
  {
   "cell_type": "markdown",
   "metadata": {
    "papermill": {
     "duration": 0.019915,
     "end_time": "2022-01-25T19:28:56.700899",
     "exception": false,
     "start_time": "2022-01-25T19:28:56.680984",
     "status": "completed"
    },
    "tags": []
   },
   "source": [
    "# Coach that represented the most clubs in the competition\n",
    "And now lets looks at which coach has coached the most clubs in the competition, I expected Ancelotti to be up there but I didn't know that Koeman has coached so many diffeernt clubs, need to brush up on my CL history :)"
   ]
  },
  {
   "cell_type": "code",
   "execution_count": 11,
   "metadata": {
    "execution": {
     "iopub.execute_input": "2022-01-25T19:28:56.770582Z",
     "iopub.status.busy": "2022-01-25T19:28:56.769741Z",
     "iopub.status.idle": "2022-01-25T19:28:57.039480Z",
     "shell.execute_reply": "2022-01-25T19:28:57.040291Z",
     "shell.execute_reply.started": "2022-01-25T19:27:48.497890Z"
    },
    "papermill": {
     "duration": 0.318693,
     "end_time": "2022-01-25T19:28:57.040527",
     "exception": false,
     "start_time": "2022-01-25T19:28:56.721834",
     "status": "completed"
    },
    "tags": []
   },
   "outputs": [
    {
     "data": {
      "image/png": "[encoded data removed]",
      "text/plain": [
       "<Figure size 1152x576 with 1 Axes>"
      ]
     },
     "metadata": {
      "needs_background": "light"
     },
     "output_type": "display_data"
    }
   ],
   "source": [
    "df = CoachAppear.copy(deep=True)\n",
    "plt.figure(figsize=(16,8))\n",
    "df = df.groupby([\"Coach\"])[\"Club\"].count().sort_values(ascending=False)[:15].plot(kind='bar')"
   ]
  },
  {
   "cell_type": "code",
   "execution_count": 12,
   "metadata": {
    "execution": {
     "iopub.execute_input": "2022-01-25T19:28:57.089591Z",
     "iopub.status.busy": "2022-01-25T19:28:57.088881Z",
     "iopub.status.idle": "2022-01-25T19:28:57.092111Z",
     "shell.execute_reply": "2022-01-25T19:28:57.091589Z",
     "shell.execute_reply.started": "2022-01-25T19:27:48.764388Z"
    },
    "papermill": {
     "duration": 0.029679,
     "end_time": "2022-01-25T19:28:57.092248",
     "exception": false,
     "start_time": "2022-01-25T19:28:57.062569",
     "status": "completed"
    },
    "tags": []
   },
   "outputs": [],
   "source": [
    "del df"
   ]
  },
  {
   "cell_type": "markdown",
   "metadata": {
    "papermill": {
     "duration": 0.020894,
     "end_time": "2022-01-25T19:28:57.134470",
     "exception": false,
     "start_time": "2022-01-25T19:28:57.113576",
     "status": "completed"
    },
    "tags": []
   },
   "source": [
    "# Analyzing the Player appearances\n",
    "This dataset looks very similar to the coaches data so lets repeat the same analysis.  The player that played the most games for a single club (Note: this player could play for multiple clubs but this is the most games for a club) is:"
   ]
  },
  {
   "cell_type": "code",
   "execution_count": 13,
   "metadata": {
    "execution": {
     "iopub.execute_input": "2022-01-25T19:28:57.194931Z",
     "iopub.status.busy": "2022-01-25T19:28:57.194290Z",
     "iopub.status.idle": "2022-01-25T19:28:57.218526Z",
     "shell.execute_reply": "2022-01-25T19:28:57.219125Z",
     "shell.execute_reply.started": "2022-01-25T19:27:48.772438Z"
    },
    "papermill": {
     "duration": 0.063613,
     "end_time": "2022-01-25T19:28:57.219299",
     "exception": false,
     "start_time": "2022-01-25T19:28:57.155686",
     "status": "completed"
    },
    "tags": []
   },
   "outputs": [
    {
     "data": {
      "text/html": [
       "<div>\n",
       "<style scoped>\n",
       "    .dataframe tbody tr th:only-of-type {\n",
       "        vertical-align: middle;\n",
       "    }\n",
       "\n",
       "    .dataframe tbody tr th {\n",
       "        vertical-align: top;\n",
       "    }\n",
       "\n",
       "    .dataframe thead th {\n",
       "        text-align: right;\n",
       "    }\n",
       "</style>\n",
       "<table border=\"1\" class=\"dataframe\">\n",
       "  <thead>\n",
       "    <tr style=\"text-align: right;\">\n",
       "      <th></th>\n",
       "      <th>Player</th>\n",
       "      <th>Club</th>\n",
       "      <th>Appearances</th>\n",
       "    </tr>\n",
       "  </thead>\n",
       "  <tbody>\n",
       "    <tr>\n",
       "      <th>0</th>\n",
       "      <td>Cristiano Ronaldo</td>\n",
       "      <td>Real Madrid CF</td>\n",
       "      <td>101</td>\n",
       "    </tr>\n",
       "    <tr>\n",
       "      <th>1</th>\n",
       "      <td>Cristiano Ronaldo</td>\n",
       "      <td>Juventus</td>\n",
       "      <td>23</td>\n",
       "    </tr>\n",
       "    <tr>\n",
       "      <th>2</th>\n",
       "      <td>Cristiano Ronaldo</td>\n",
       "      <td>Manchester United FC</td>\n",
       "      <td>57</td>\n",
       "    </tr>\n",
       "    <tr>\n",
       "      <th>3</th>\n",
       "      <td>Iker Casillas</td>\n",
       "      <td>Real Madrid CF</td>\n",
       "      <td>150</td>\n",
       "    </tr>\n",
       "    <tr>\n",
       "      <th>4</th>\n",
       "      <td>Iker Casillas</td>\n",
       "      <td>FC Porto</td>\n",
       "      <td>27</td>\n",
       "    </tr>\n",
       "    <tr>\n",
       "      <th>...</th>\n",
       "      <td>...</td>\n",
       "      <td>...</td>\n",
       "      <td>...</td>\n",
       "    </tr>\n",
       "    <tr>\n",
       "      <th>643</th>\n",
       "      <td>Mathieu Flamini</td>\n",
       "      <td>AC Milan</td>\n",
       "      <td>13</td>\n",
       "    </tr>\n",
       "    <tr>\n",
       "      <th>644</th>\n",
       "      <td>Mathieu Flamini</td>\n",
       "      <td>Arsenal FC</td>\n",
       "      <td>42</td>\n",
       "    </tr>\n",
       "    <tr>\n",
       "      <th>645</th>\n",
       "      <td>Paul Pogba</td>\n",
       "      <td>Juventus</td>\n",
       "      <td>32</td>\n",
       "    </tr>\n",
       "    <tr>\n",
       "      <th>646</th>\n",
       "      <td>Paul Pogba</td>\n",
       "      <td>Manchester United FC</td>\n",
       "      <td>23</td>\n",
       "    </tr>\n",
       "    <tr>\n",
       "      <th>647</th>\n",
       "      <td>Bent Skammelsrud</td>\n",
       "      <td>Rosenborg BK</td>\n",
       "      <td>55</td>\n",
       "    </tr>\n",
       "  </tbody>\n",
       "</table>\n",
       "<p>648 rows × 3 columns</p>\n",
       "</div>"
      ],
      "text/plain": [
       "                Player                  Club  Appearances\n",
       "0    Cristiano Ronaldo        Real Madrid CF          101\n",
       "1    Cristiano Ronaldo              Juventus           23\n",
       "2    Cristiano Ronaldo  Manchester United FC           57\n",
       "3        Iker Casillas        Real Madrid CF          150\n",
       "4        Iker Casillas              FC Porto           27\n",
       "..                 ...                   ...          ...\n",
       "643    Mathieu Flamini              AC Milan           13\n",
       "644    Mathieu Flamini            Arsenal FC           42\n",
       "645         Paul Pogba              Juventus           32\n",
       "646         Paul Pogba  Manchester United FC           23\n",
       "647   Bent Skammelsrud          Rosenborg BK           55\n",
       "\n",
       "[648 rows x 3 columns]"
      ]
     },
     "execution_count": 13,
     "metadata": {},
     "output_type": "execute_result"
    }
   ],
   "source": [
    "PlayerAppear = pd.read_csv(os.path.join(PATH, \"PlayerAppearDetails.csv\"), index_col='Unnamed: 0')\n",
    "PlayerAppear"
   ]
  },
  {
   "cell_type": "code",
   "execution_count": 14,
   "metadata": {
    "execution": {
     "iopub.execute_input": "2022-01-25T19:28:57.292806Z",
     "iopub.status.busy": "2022-01-25T19:28:57.292117Z",
     "iopub.status.idle": "2022-01-25T19:28:57.304252Z",
     "shell.execute_reply": "2022-01-25T19:28:57.304826Z",
     "shell.execute_reply.started": "2022-01-25T19:27:48.802338Z"
    },
    "papermill": {
     "duration": 0.050515,
     "end_time": "2022-01-25T19:28:57.305008",
     "exception": false,
     "start_time": "2022-01-25T19:28:57.254493",
     "status": "completed"
    },
    "tags": []
   },
   "outputs": [
    {
     "data": {
      "text/plain": [
       "Player            Club                \n",
       "Xavi Hernández    FC Barcelona            151\n",
       "Iker Casillas     Real Madrid CF          150\n",
       "Lionel Messi      FC Barcelona            149\n",
       "Ryan Giggs        Manchester United FC    141\n",
       "Andrés Iniesta    FC Barcelona            130\n",
       "Raúl González     Real Madrid CF          130\n",
       "Thomas Müller     FC Bayern München       130\n",
       "Sergio Ramos      Real Madrid CF          129\n",
       "Sergio Busquets   FC Barcelona            125\n",
       "Paul Scholes      Manchester United FC    124\n",
       "Gerard Piqué      FC Barcelona            120\n",
       "Karim Benzema     Real Madrid CF          116\n",
       "Carles Puyol      FC Barcelona            115\n",
       "Gianluigi Buffon  Juventus                113\n",
       "Gary Neville      Manchester United FC    109\n",
       "Name: Appearances, dtype: int64"
      ]
     },
     "execution_count": 14,
     "metadata": {},
     "output_type": "execute_result"
    }
   ],
   "source": [
    "df = PlayerAppear.copy(deep=True)\n",
    "df = df.groupby([\"Player\", \"Club\"])[\"Appearances\"].max().sort_values(ascending=False)[:15]\n",
    "df"
   ]
  },
  {
   "cell_type": "code",
   "execution_count": 15,
   "metadata": {
    "execution": {
     "iopub.execute_input": "2022-01-25T19:28:57.356755Z",
     "iopub.status.busy": "2022-01-25T19:28:57.356133Z",
     "iopub.status.idle": "2022-01-25T19:28:57.671900Z",
     "shell.execute_reply": "2022-01-25T19:28:57.670689Z",
     "shell.execute_reply.started": "2022-01-25T19:27:48.818517Z"
    },
    "papermill": {
     "duration": 0.343136,
     "end_time": "2022-01-25T19:28:57.672082",
     "exception": false,
     "start_time": "2022-01-25T19:28:57.328946",
     "status": "completed"
    },
    "tags": []
   },
   "outputs": [
    {
     "data": {
      "image/png": "[encoded data removed]",
      "text/plain": [
       "<Figure size 1152x576 with 1 Axes>"
      ]
     },
     "metadata": {
      "needs_background": "light"
     },
     "output_type": "display_data"
    }
   ],
   "source": [
    "df = PlayerAppear.copy(deep=True)\n",
    "plt.figure(figsize=(16,8))\n",
    "df = df.groupby([\"Player\"])[\"Club\"].count().sort_values(ascending=False)[:20].plot(kind='bar')"
   ]
  },
  {
   "cell_type": "markdown",
   "metadata": {
    "papermill": {
     "duration": 0.034032,
     "end_time": "2022-01-25T19:28:57.740193",
     "exception": false,
     "start_time": "2022-01-25T19:28:57.706161",
     "status": "completed"
    },
    "tags": []
   },
   "source": [
    "# Analyzing the top goal scorers\n",
    "Lets see which player scored the most goals for a single club by using the PlayerGoalDetails file.  The PlayerGoalTotals is just a summary of this data without the club information."
   ]
  },
  {
   "cell_type": "code",
   "execution_count": 16,
   "metadata": {
    "execution": {
     "iopub.execute_input": "2022-01-25T19:28:57.791087Z",
     "iopub.status.busy": "2022-01-25T19:28:57.790601Z",
     "iopub.status.idle": "2022-01-25T19:28:57.808992Z",
     "shell.execute_reply": "2022-01-25T19:28:57.809402Z",
     "shell.execute_reply.started": "2022-01-25T19:27:49.120027Z"
    },
    "papermill": {
     "duration": 0.045697,
     "end_time": "2022-01-25T19:28:57.809576",
     "exception": false,
     "start_time": "2022-01-25T19:28:57.763879",
     "status": "completed"
    },
    "tags": []
   },
   "outputs": [
    {
     "data": {
      "text/html": [
       "<div>\n",
       "<style scoped>\n",
       "    .dataframe tbody tr th:only-of-type {\n",
       "        vertical-align: middle;\n",
       "    }\n",
       "\n",
       "    .dataframe tbody tr th {\n",
       "        vertical-align: top;\n",
       "    }\n",
       "\n",
       "    .dataframe thead th {\n",
       "        text-align: right;\n",
       "    }\n",
       "</style>\n",
       "<table border=\"1\" class=\"dataframe\">\n",
       "  <thead>\n",
       "    <tr style=\"text-align: right;\">\n",
       "      <th></th>\n",
       "      <th>Player</th>\n",
       "      <th>Club</th>\n",
       "      <th>Goals</th>\n",
       "    </tr>\n",
       "  </thead>\n",
       "  <tbody>\n",
       "    <tr>\n",
       "      <th>0</th>\n",
       "      <td>Cristiano Ronaldo</td>\n",
       "      <td>Real Madrid CF</td>\n",
       "      <td>105</td>\n",
       "    </tr>\n",
       "    <tr>\n",
       "      <th>1</th>\n",
       "      <td>Cristiano Ronaldo</td>\n",
       "      <td>Juventus</td>\n",
       "      <td>14</td>\n",
       "    </tr>\n",
       "    <tr>\n",
       "      <th>2</th>\n",
       "      <td>Cristiano Ronaldo</td>\n",
       "      <td>Manchester United FC</td>\n",
       "      <td>21</td>\n",
       "    </tr>\n",
       "    <tr>\n",
       "      <th>3</th>\n",
       "      <td>Lionel Messi</td>\n",
       "      <td>FC Barcelona</td>\n",
       "      <td>120</td>\n",
       "    </tr>\n",
       "    <tr>\n",
       "      <th>4</th>\n",
       "      <td>Lionel Messi</td>\n",
       "      <td>Paris Saint-Germain</td>\n",
       "      <td>5</td>\n",
       "    </tr>\n",
       "    <tr>\n",
       "      <th>5</th>\n",
       "      <td>Robert Lewandowski</td>\n",
       "      <td>Borussia Dortmund</td>\n",
       "      <td>17</td>\n",
       "    </tr>\n",
       "    <tr>\n",
       "      <th>6</th>\n",
       "      <td>Robert Lewandowski</td>\n",
       "      <td>FC Bayern München</td>\n",
       "      <td>65</td>\n",
       "    </tr>\n",
       "    <tr>\n",
       "      <th>7</th>\n",
       "      <td>Karim Benzema</td>\n",
       "      <td>Olympique Lyonnais</td>\n",
       "      <td>12</td>\n",
       "    </tr>\n",
       "    <tr>\n",
       "      <th>8</th>\n",
       "      <td>Karim Benzema</td>\n",
       "      <td>Real Madrid CF</td>\n",
       "      <td>64</td>\n",
       "    </tr>\n",
       "    <tr>\n",
       "      <th>9</th>\n",
       "      <td>Raúl González</td>\n",
       "      <td>Real Madrid CF</td>\n",
       "      <td>66</td>\n",
       "    </tr>\n",
       "  </tbody>\n",
       "</table>\n",
       "</div>"
      ],
      "text/plain": [
       "               Player                  Club Goals\n",
       "0   Cristiano Ronaldo        Real Madrid CF   105\n",
       "1   Cristiano Ronaldo              Juventus    14\n",
       "2   Cristiano Ronaldo  Manchester United FC    21\n",
       "3        Lionel Messi          FC Barcelona   120\n",
       "4        Lionel Messi   Paris Saint-Germain     5\n",
       "5  Robert Lewandowski     Borussia Dortmund    17\n",
       "6  Robert Lewandowski     FC Bayern München    65\n",
       "7       Karim Benzema    Olympique Lyonnais    12\n",
       "8       Karim Benzema        Real Madrid CF    64\n",
       "9       Raúl González        Real Madrid CF    66"
      ]
     },
     "execution_count": 16,
     "metadata": {},
     "output_type": "execute_result"
    }
   ],
   "source": [
    "PlayerGoals = pd.read_csv(os.path.join(PATH, \"PlayerGoalDetails.csv\"), index_col='Unnamed: 0')\n",
    "PlayerGoals.head(10)"
   ]
  },
  {
   "cell_type": "code",
   "execution_count": 17,
   "metadata": {
    "execution": {
     "iopub.execute_input": "2022-01-25T19:28:57.863528Z",
     "iopub.status.busy": "2022-01-25T19:28:57.862910Z",
     "iopub.status.idle": "2022-01-25T19:28:57.912344Z",
     "shell.execute_reply": "2022-01-25T19:28:57.911899Z",
     "shell.execute_reply.started": "2022-01-25T19:27:49.151567Z"
    },
    "papermill": {
     "duration": 0.080206,
     "end_time": "2022-01-25T19:28:57.912513",
     "exception": false,
     "start_time": "2022-01-25T19:28:57.832307",
     "status": "completed"
    },
    "tags": []
   },
   "outputs": [
    {
     "data": {
      "text/plain": [
       "Player                 Club                    \n",
       "İlkay Gündoğan         Manchester City FC          9\n",
       "Michael Ballack        Bayer 04 Leverkusen         9\n",
       "Arturo Vidal           Juventus                    9\n",
       "Patrick Kluivert       AFC Ajax                    9\n",
       "Peter Crouch           Liverpool FC                9\n",
       "Sonny Anderson         Olympique Lyonnais          9\n",
       "Mario Götze            FC Bayern München           9\n",
       "Ivica Olić             FC Bayern München           9\n",
       "Zinédine Zidane        Real Madrid CF              9\n",
       "Miroslav Klose         FC Bayern München           9\n",
       "Fernando Morientes     AS Monaco FC                9\n",
       "Diego Costa            Club Atlético de Madrid     9\n",
       "Alexis Sánchez         Arsenal FC                  9\n",
       "Michalis Konstantinou  Panathinaikos FC            9\n",
       "Zlatan Ibrahimović     AC Milan                    9\n",
       "Sylvain Wiltord        Olympique Lyonnais          8\n",
       "Radamel Falcao         AS Monaco FC                8\n",
       "Jonas                  Valencia CF                 8\n",
       "Clarence Seedorf       AC Milan                    8\n",
       "John Carew             Valencia CF                 8\n",
       "Leroy Sané             FC Bayern München           8\n",
       "David Silva            Manchester City FC          8\n",
       "Dejan Stanković        FC Internazionale Milano    8\n",
       "Ruud van Nistelrooy    PSV Eindhoven               8\n",
       "Gonzalo Higuaín        Real Madrid CF              8\n",
       "Name: Goals, dtype: object"
      ]
     },
     "execution_count": 17,
     "metadata": {},
     "output_type": "execute_result"
    },
    {
     "data": {
      "text/plain": [
       "<Figure size 1152x576 with 0 Axes>"
      ]
     },
     "metadata": {},
     "output_type": "display_data"
    }
   ],
   "source": [
    "df = PlayerGoals.copy(deep=True)\n",
    "plt.figure(figsize=(16,8))\n",
    "df = df.groupby([\"Player\", \"Club\"])[\"Goals\"].max().sort_values(ascending=False)[:25]\n",
    "df"
   ]
  },
  {
   "cell_type": "markdown",
   "metadata": {
    "papermill": {
     "duration": 0.022861,
     "end_time": "2022-01-25T19:28:57.958720",
     "exception": false,
     "start_time": "2022-01-25T19:28:57.935859",
     "status": "completed"
    },
    "tags": []
   },
   "source": [
    "Once again lets look at which player scored the most goals for different clubs"
   ]
  },
  {
   "cell_type": "code",
   "execution_count": 18,
   "metadata": {
    "execution": {
     "iopub.execute_input": "2022-01-25T19:28:58.029425Z",
     "iopub.status.busy": "2022-01-25T19:28:58.028636Z",
     "iopub.status.idle": "2022-01-25T19:28:58.319035Z",
     "shell.execute_reply": "2022-01-25T19:28:58.318288Z",
     "shell.execute_reply.started": "2022-01-25T19:27:49.214589Z"
    },
    "papermill": {
     "duration": 0.337084,
     "end_time": "2022-01-25T19:28:58.319190",
     "exception": false,
     "start_time": "2022-01-25T19:28:57.982106",
     "status": "completed"
    },
    "tags": []
   },
   "outputs": [
    {
     "data": {
      "image/png": "[encoded data removed]",
      "text/plain": [
       "<Figure size 1152x576 with 1 Axes>"
      ]
     },
     "metadata": {
      "needs_background": "light"
     },
     "output_type": "display_data"
    }
   ],
   "source": [
    "df = PlayerGoals.copy(deep=True)\n",
    "plt.figure(figsize=(16,8))\n",
    "df = df.groupby(\"Player\")[\"Club\"].count().sort_values(ascending=False)[:20].plot(kind='barh')"
   ]
  },
  {
   "cell_type": "code",
   "execution_count": null,
   "metadata": {
    "papermill": {
     "duration": 0.036427,
     "end_time": "2022-01-25T19:28:58.392230",
     "exception": false,
     "start_time": "2022-01-25T19:28:58.355803",
     "status": "completed"
    },
    "tags": []
   },
   "outputs": [],
   "source": []
  }
 ],
 "metadata": {
  "kernelspec": {
   "display_name": "Python 3",
   "language": "python",
   "name": "python3"
  },
  "language_info": {
   "codemirror_mode": {
    "name": "ipython",
    "version": 3
   },
   "file_extension": ".py",
   "mimetype": "text/x-python",
   "name": "python",
   "nbconvert_exporter": "python",
   "pygments_lexer": "ipython3",
   "version": "3.7.9"
  },
  "papermill": {
   "default_parameters": {},
   "duration": 9.452863,
   "end_time": "2022-01-25T19:28:59.240709",
   "environment_variables": {},
   "exception": null,
   "input_path": "__notebook__.ipynb",
   "output_path": "__notebook__.ipynb",
   "parameters": {},
   "start_time": "2022-01-25T19:28:49.787846",
   "version": "2.2.2"
  }
 },
 "nbformat": 4,
 "nbformat_minor": 4
}
